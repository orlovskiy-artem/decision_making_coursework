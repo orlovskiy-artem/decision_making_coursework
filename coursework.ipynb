{
 "cells": [
  {
   "cell_type": "code",
   "execution_count": 1,
   "id": "e58f82ee",
   "metadata": {},
   "outputs": [],
   "source": [
    "import numpy as np\n",
    "import pandas as pd\n",
    "from collections import defaultdict"
   ]
  },
  {
   "cell_type": "code",
   "execution_count": 2,
   "id": "db80ff93",
   "metadata": {},
   "outputs": [],
   "source": [
    "from solution import ThemeSolver\n",
    "from utils import get_report, drop_missing, write_report_to_file, parse_data"
   ]
  },
  {
   "cell_type": "code",
   "execution_count": 3,
   "id": "f19c8733",
   "metadata": {},
   "outputs": [],
   "source": [
    "%load_ext autoreload\n",
    "%autoreload 2"
   ]
  },
  {
   "cell_type": "code",
   "execution_count": 4,
   "id": "6606d36c",
   "metadata": {},
   "outputs": [],
   "source": [
    "profits_list, investments_list = parse_data(\"data/data.xlsx\")"
   ]
  },
  {
   "cell_type": "code",
   "execution_count": 6,
   "id": "68c0fe59",
   "metadata": {},
   "outputs": [
    {
     "name": "stdout",
     "output_type": "stream",
     "text": [
      "Введіть L1: 30\n",
      "Введіть L2: 30\n",
      "Введіть L3: 30\n",
      "Введіть L4: 30\n",
      "Введіть N: 100\n"
     ]
    }
   ],
   "source": [
    "L1 = int(input(\"Введіть L1: \"))\n",
    "L2 = int(input(\"Введіть L2: \"))\n",
    "L3 = int(input(\"Введіть L3: \"))\n",
    "L4 = int(input(\"Введіть L4: \"))\n",
    "\n",
    "N = int(input(\"Введіть N: \"))\n",
    "L = [L1,L2,L3,L4]"
   ]
  },
  {
   "cell_type": "code",
   "execution_count": 7,
   "id": "2633bea5",
   "metadata": {},
   "outputs": [],
   "source": [
    "solver = ThemeSolver(profits_list, investments_list, L, N)"
   ]
  },
  {
   "cell_type": "code",
   "execution_count": 8,
   "id": "4516f89b",
   "metadata": {},
   "outputs": [
    {
     "name": "stdout",
     "output_type": "stream",
     "text": [
      "Wall time: 7.8 s\n"
     ]
    }
   ],
   "source": [
    "%%time\n",
    "solution = solver.solve()"
   ]
  },
  {
   "cell_type": "code",
   "execution_count": 9,
   "id": "36f9206e",
   "metadata": {},
   "outputs": [],
   "source": [
    "report = get_report(profits_list, profits_list, L, N, solution)"
   ]
  },
  {
   "cell_type": "code",
   "execution_count": 10,
   "id": "3501b1fa",
   "metadata": {},
   "outputs": [
    {
     "name": "stdout",
     "output_type": "stream",
     "text": [
      "Загальна сума асигнувань на всі проекти = 100\n",
      "Верхні межі асигнувань відділів: L_1=30 L_2=30 L_3=30 L_4=30\n",
      "Максимальний результат = 1018\n",
      "\n",
      "V=5 W=8 X=11 | Sum=24\n",
      "V=15 W=9 X=5 | Sum=29\n",
      "V=9 W=7 X=8 | Sum=24\n",
      "V=4 W=14 X=5 | Sum=23\n",
      "Сума всіх інвестицій = 100\n",
      "\n",
      "P(5) = 36    Q(8) = 67    R(11) = 113    | Sum=216\n",
      "P(15) = 183    Q(9) = 93    R(5) = 46    | Sum=322\n",
      "P(9) = 85    Q(7) = 56    R(8) = 86    | Sum=227\n",
      "P(4) = 30    Q(14) = 177    R(5) = 46    | Sum=253\n",
      "Сума всіх доходів = 1018\n"
     ]
    }
   ],
   "source": [
    "print(report)"
   ]
  },
  {
   "cell_type": "code",
   "execution_count": 11,
   "id": "06700782",
   "metadata": {},
   "outputs": [],
   "source": [
    "write_report_to_file(report,\"report.txt\")"
   ]
  }
 ],
 "metadata": {
  "kernelspec": {
   "display_name": "Python 3 (ipykernel)",
   "language": "python",
   "name": "python3"
  },
  "language_info": {
   "codemirror_mode": {
    "name": "ipython",
    "version": 3
   },
   "file_extension": ".py",
   "mimetype": "text/x-python",
   "name": "python",
   "nbconvert_exporter": "python",
   "pygments_lexer": "ipython3",
   "version": "3.7.11"
  }
 },
 "nbformat": 4,
 "nbformat_minor": 5
}
